{
 "cells": [
  {
   "cell_type": "code",
   "execution_count": null,
   "metadata": {},
   "outputs": [],
   "source": [
    "from sklearn.linear_model import LogisticRegression\n",
    "from sklearn.model_selection import train_test_split\n",
    "import pandas as pd\n",
    "import numpy as np"
   ]
  },
  {
   "cell_type": "code",
   "execution_count": null,
   "metadata": {},
   "outputs": [],
   "source": [
    "# loading in the data\n",
    "fruits = pd.read_table('fruit_data_with_colors.txt')\n",
    "target_names = ['apple', 'mandarin', 'orange', 'lemon']\n",
    "X_fruits_2d = fruits[['height', 'width']]\n",
    "y_fruits_2d = fruits['fruit_label']\n",
    "\n",
    "# creating a binary classification problem (apple vs everything else)\n",
    "y_fruits_apple = y_fruits_2d == 1\n",
    "\n",
    "X_train, X_test, y_train, y_test = train_test_split(\n",
    "    X_fruits_2d.to_numpy(), \n",
    "    y_fruits_apple.to_numpy(), \n",
    "    random_state=0\n",
    ")"
   ]
  },
  {
   "cell_type": "code",
   "execution_count": null,
   "metadata": {},
   "outputs": [],
   "source": [
    "# logistic regression is similar to linear regression but instead of the output being a\n",
    "# continuous value, it is an estimate of how likely something is to belong to a certain class.\n",
    "# It also differs from linear regression in that before the final value is received,\n",
    "# it is passed through a function that squishes the value between 0 and 1\n",
    "# in this example, we are saying that a value closer to 1 indicates an apple while a value\n",
    "# below 1 indicates a different kind of fruit\n",
    "\n",
    "# C controls the regularization parameter (L2)\n",
    "clf = LogisticRegression(C=100).fit(X_train, y_train)\n",
    "\n",
    "h = 6\n",
    "w = 8\n",
    "print(\"A fruit with height {} and width {} is predicted to be: {}\".format(\n",
    "    h,\n",
    "    w,\n",
    "    ['not an apple', 'an apple'][clf.predict([[6,8]])[0]]\n",
    "))\n",
    "\n",
    "print(\"accuracy of logistic regression (training): {}\".format(clf.score(X_train, y_train)))\n",
    "print(\"accuracy of logistic regression (test): {}\".format(clf.score(X_test, y_test)))"
   ]
  }
 ],
 "metadata": {
  "kernelspec": {
   "display_name": "Python 3",
   "language": "python",
   "name": "python3"
  },
  "language_info": {
   "codemirror_mode": {
    "name": "ipython",
    "version": 3
   },
   "file_extension": ".py",
   "mimetype": "text/x-python",
   "name": "python",
   "nbconvert_exporter": "python",
   "pygments_lexer": "ipython3",
   "version": "3.7.6"
  }
 },
 "nbformat": 4,
 "nbformat_minor": 4
}
