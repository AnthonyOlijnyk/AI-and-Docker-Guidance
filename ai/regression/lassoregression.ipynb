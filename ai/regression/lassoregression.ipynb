{
 "cells": [
  {
   "cell_type": "code",
   "execution_count": null,
   "metadata": {},
   "outputs": [],
   "source": [
    "from sklearn.linear_model import Lasso\n",
    "from sklearn.model_selection import train_test_split\n",
    "from sklearn.preprocessing import MinMaxScaler\n",
    "import pandas as pd"
   ]
  },
  {
   "cell_type": "code",
   "execution_count": null,
   "metadata": {},
   "outputs": [],
   "source": [
    "# sep is the delimiter and na_values specifies additional strings to recognize as NaN\n",
    "crime = pd.read_table('CommViolPredUnnormalizedData.txt', sep=',', na_values='?')\n",
    "# specifying which column indicies are relevant. Here we can add the lists together to form a bigger list\n",
    "# for example, [5,6] + list(range(11,26)) = [5,6,11,12,...,25]\n",
    "columns_to_keep = [5, 6] + list(range(11,26)) + list(range(32, 103)) + [145] \n",
    "# df.iloc indexes the rows of the dataframe to keep. For example (crime.iloc(0)) would print the first row\n",
    "# crime.iloc([0], [1]) would print the element in the first row second column\n",
    "\n",
    "# here we are saying that we want the elements in all of the rows, but only with the columns specified in\n",
    "# columns_to_keep (also drop all missing values with dropna())\n",
    "crime = crime.iloc[:,columns_to_keep].dropna()\n",
    "\n",
    "# X_crime consists of all the rows in the dataframe left over after the previous iloc and 88 of the columns\n",
    "X_crime = crime.iloc[:,range(0,88)]\n",
    "# y_crime consists of only the ViolentCrimesPerPop column\n",
    "y_crime = crime['ViolentCrimesPerPop']"
   ]
  },
  {
   "cell_type": "code",
   "execution_count": null,
   "metadata": {},
   "outputs": [],
   "source": [
    "scaler = MinMaxScaler()\n",
    "\n",
    "X_train, X_test, y_train, y_test = train_test_split(X_crime, y_crime, random_state=0)\n",
    "\n",
    "X_train_scaled = scaler.fit_transform(X_train)\n",
    "X_test_scaled = scaler.fit_transform(X_test)\n",
    "\n",
    "# lasso is similar to the ridge regression except the sum is minimimzed using the absolute value\n",
    "# of the weights: sum(yi - (wix + b))^2 + (alpha)sum(abs(wi))\n",
    "# use ridge regression when there are many small/medium effects\n",
    "# use lasso regression when there are only a few variables with medium/large effects\n",
    "linlasso = Lasso(alpha=2.0, max_iter=10000).fit(X_train_scaled, y_train)\n",
    "\n",
    "print(\"lasso regression linear model intercept: {}\".format(linlasso.intercept_))\n",
    "print(\"lasso regression linear model coefficients: {}\".format(linlasso.coef_))\n",
    "print(\"R-squared score (train): {:.3f}\".format(linlasso.score(X_train_scaled, y_train)))\n",
    "print(\"R-square score (test): {:.3f}\".format(linlasso.score(X_test_scaled, y_test)))\n",
    "\n",
    "# from this analysis of the crime dataset, we can see that features like percentage of kids born to\n",
    "# people who never married had the most positive correlation with crime\n",
    "prominent_features = {}\n",
    "temp = (list(zip(X_crime, linlasso.coef_)))\n",
    "for x,y in temp:\n",
    "    prominent_features[abs(y)] = x\n",
    "for coef, feature in sorted(prominent_features.items(), reverse=True):\n",
    "    print(feature + ':  ' + str(coef))"
   ]
  }
 ],
 "metadata": {
  "kernelspec": {
   "display_name": "Python 3",
   "language": "python",
   "name": "python3"
  },
  "language_info": {
   "codemirror_mode": {
    "name": "ipython",
    "version": 3
   },
   "file_extension": ".py",
   "mimetype": "text/x-python",
   "name": "python",
   "nbconvert_exporter": "python",
   "pygments_lexer": "ipython3",
   "version": "3.7.6"
  }
 },
 "nbformat": 4,
 "nbformat_minor": 4
}
