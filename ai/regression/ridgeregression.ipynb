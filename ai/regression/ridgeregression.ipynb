{
 "cells": [
  {
   "cell_type": "code",
   "execution_count": null,
   "metadata": {},
   "outputs": [],
   "source": [
    "from sklearn.linear_model import Ridge\n",
    "from sklearn.model_selection import train_test_split\n",
    "from sklearn.preprocessing import MinMaxScaler\n",
    "import pandas as pd"
   ]
  },
  {
   "cell_type": "code",
   "execution_count": null,
   "metadata": {},
   "outputs": [],
   "source": [
    "# sep is the delimiter and na_values specifies additional strings to recognize as NaN\n",
    "crime = pd.read_table('CommViolPredUnnormalizedData.txt', sep=',', na_values='?')\n",
    "# specifying which column indicies are relevant. Here we can add the lists together to form a bigger list\n",
    "# for example, [5,6] + list(range(11,26)) = [5,6,11,12,...,25]\n",
    "columns_to_keep = [5, 6] + list(range(11,26)) + list(range(32, 103)) + [145] \n",
    "# df.iloc indexes the rows of the dataframe to keep. For example (crime.iloc(0)) would print the first row\n",
    "# crime.iloc([0], [1]) would print the element in the first row second column\n",
    "\n",
    "# here we are saying that we want the elements in all of the rows, but only with the columns specified in\n",
    "# columns_to_keep (also drop all missing values with dropna())\n",
    "crime = crime.iloc[:,columns_to_keep].dropna()\n",
    "\n",
    "# X_crime consists of all the rows in the dataframe left over after the previous iloc and 88 of the columns\n",
    "X_crime = crime.iloc[:,range(0,88)]\n",
    "# y_crime consists of only the ViolentCrimesPerPop column\n",
    "y_crime = crime['ViolentCrimesPerPop']"
   ]
  },
  {
   "cell_type": "code",
   "execution_count": null,
   "metadata": {},
   "outputs": [],
   "source": [
    "X_train, X_test, y_train, y_test = train_test_split(X_crime, y_crime, random_state=0)\n",
    "\n",
    "# ridge regression is similar to linear regression except it also adds an aditional term\n",
    "# to the previous formula: sum(yi - (wix + b))^2\n",
    "# the formula for ridge regression is: sum(yi - (wix + b))^2 + (alpha)sum(wi^2)\n",
    "# ridge regression adds the square sum of the weights in order to prevent overfitting. This\n",
    "# is because we don't want the model to be too accustomed to the weights of the training set.\n",
    "# notice that the alpha value will dictate how much of a priority the weighted sum is. An alpha\n",
    "# value of zero will lead to this being a normal linear regression\n",
    "linridge = Ridge(alpha=20.0).fit(X_train, y_train)\n",
    "\n",
    "print(\"ridge regression linear model intercept: {}\".format(linridge.intercept_))\n",
    "print(\"ridge regression linear model coefficients {}\".format(linridge.coef_))\n",
    "print(\"R-squared score (training): {:.3f}\".format(linridge.score(X_train, y_train)))\n",
    "print(\"R-squared score (test): {:.3f}\".format(linridge.score(X_test, y_test)))"
   ]
  },
  {
   "cell_type": "markdown",
   "metadata": {},
   "source": [
    "# Now With Preprocessing the Image with MinMax"
   ]
  },
  {
   "cell_type": "code",
   "execution_count": null,
   "metadata": {},
   "outputs": [],
   "source": [
    "# the formula for minmax scaling is: xnew = (xi - xmin)/(xmax - xmin)\n",
    "# this will normalize all values to be between 0 and 1 where 0 is the min value\n",
    "# and 1 is the max value\n",
    "scaler = MinMaxScaler()\n",
    "\n",
    "# normalizing the values\n",
    "X_train_scaled = scaler.fit_transform(X_train)\n",
    "X_test_scaled = scaler.fit_transform(X_test)\n",
    "\n",
    "linridge = Ridge(alpha=20.0).fit(X_train_scaled, y_train)\n",
    "\n",
    "print(\"ridge regression linear model intercept: {}\".format(linridge.intercept_))\n",
    "print(\"ridge regression linear model coefficients {}\".format(linridge.coef_))\n",
    "print(\"R-squared score (training): {:.3f}\".format(linridge.score(X_train_scaled, y_train)))\n",
    "print(\"R-squared score (test): {:.3f}\".format(linridge.score(X_test_scaled, y_test)))"
   ]
  }
 ],
 "metadata": {
  "kernelspec": {
   "display_name": "Python 3",
   "language": "python",
   "name": "python3"
  },
  "language_info": {
   "codemirror_mode": {
    "name": "ipython",
    "version": 3
   },
   "file_extension": ".py",
   "mimetype": "text/x-python",
   "name": "python",
   "nbconvert_exporter": "python",
   "pygments_lexer": "ipython3",
   "version": "3.7.6"
  }
 },
 "nbformat": 4,
 "nbformat_minor": 4
}
