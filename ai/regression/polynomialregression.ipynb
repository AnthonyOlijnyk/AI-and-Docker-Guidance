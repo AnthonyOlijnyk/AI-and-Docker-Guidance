{
 "cells": [
  {
   "cell_type": "code",
   "execution_count": null,
   "metadata": {},
   "outputs": [],
   "source": [
    "from sklearn.linear_model import LinearRegression\n",
    "from sklearn.linear_model import Ridge\n",
    "from sklearn.preprocessing import PolynomialFeatures\n",
    "from sklearn.model_selection import train_test_split\n",
    "from sklearn.datasets import make_friedman1\n",
    "import matplotlib.pyplot as plt"
   ]
  },
  {
   "cell_type": "code",
   "execution_count": null,
   "metadata": {},
   "outputs": [],
   "source": [
    "plt.figure()\n",
    "plt.title(\"Complex regression problem with one input variable\")\n",
    "X_F1, y_F1 = make_friedman1(\n",
    "    n_samples = 100,\n",
    "    n_features = 7,\n",
    "    random_state = 0\n",
    ")\n",
    "plt.scatter(X_F1[:, 2], y_F1, marker='o', s=50)\n",
    "plt.grid(True)\n",
    "plt.show()"
   ]
  },
  {
   "cell_type": "code",
   "execution_count": null,
   "metadata": {},
   "outputs": [],
   "source": [
    "X_train, X_test, y_train, y_test = train_test_split(X_F1, y_F1, random_state=0)\n",
    "\n",
    "linreg = LinearRegression().fit(X_train, y_train)\n",
    "\n",
    "print(\"linear model coef (w): {}\".format(linreg.coef_))\n",
    "print(\"linear model intercept (b): {}\".format(linreg.intercept_))\n",
    "print(\"R-squared score (train): {:.3f}\".format(linreg.score(X_train, y_train)))\n",
    "print(\"R-squared score (test): {:.3f}\".format(linreg.score(X_test, y_test)))"
   ]
  },
  {
   "cell_type": "markdown",
   "metadata": {},
   "source": [
    "# Now With Polynomial Feature Transformation"
   ]
  },
  {
   "cell_type": "code",
   "execution_count": null,
   "metadata": {},
   "outputs": [],
   "source": [
    "# polynomial features allow us to fit data in a nonlinear way while still using a linear model.\n",
    "# Polynomial features are created from already existing features in the model. For example, if there\n",
    "# are two input features, and you want polynomial features of degree 2, then you can create a new\n",
    "# set of data that has five features: (x0, x1, x0x1, x0^2, x1^2)\n",
    "poly = PolynomialFeatures(degree=2)\n",
    "# expanding on the already existing features\n",
    "X_F1_poly = poly.fit_transform(X_F1)\n",
    "\n",
    "X_train, X_test, y_train, y_test = train_test_split(X_F1_poly, y_F1, random_state=0)\n",
    "\n",
    "linreg = LinearRegression().fit(X_train, y_train)\n",
    "\n",
    "# we can see that there is some overfitting here. Typically when using polynomial transformation,\n",
    "# you would also use this in combination with a regression technique with a penalty such as\n",
    "# ridge regression\n",
    "print(\"(poly degree 2) linear model coef (w): {}\".format(linreg.coef_))\n",
    "print(\"(poly degree 2) linear model intercept (b): {}\".format(linreg.intercept_))\n",
    "print(\"(poly degree 2) R-squared score (train): {:.3f}\".format(linreg.score(X_train, y_train)))\n",
    "print(\"(poly degree 2) R-squared score (test): {:.3f}\".format(linreg.score(X_test, y_test)))"
   ]
  },
  {
   "cell_type": "markdown",
   "metadata": {},
   "source": [
    "# Polynomial Transformation with Ridge"
   ]
  },
  {
   "cell_type": "code",
   "execution_count": null,
   "metadata": {},
   "outputs": [],
   "source": [
    "X_train, X_test, y_train, y_test = train_test_split(X_F1_poly, y_F1, random_state=0)\n",
    "\n",
    "linreg = Ridge().fit(X_train, y_train)\n",
    "\n",
    "print(\"(poly deg 2 + ridge) linear model coef (w): {}\".format(linreg.coef_))\n",
    "print(\"(poly deg 2 + ridge) linear model intercept (b): {}\".format(linreg.intercept_))\n",
    "print(\"(poly deg 2 + ridge) R-squared score (train): {:.3f}\".format(linreg.score(X_train, y_train)))\n",
    "print(\"(poly deg 2 + ridge) R-squared score (test): {:.3f}\".format(linreg.score(X_test, y_test)))"
   ]
  }
 ],
 "metadata": {
  "kernelspec": {
   "display_name": "Python 3",
   "language": "python",
   "name": "python3"
  },
  "language_info": {
   "codemirror_mode": {
    "name": "ipython",
    "version": 3
   },
   "file_extension": ".py",
   "mimetype": "text/x-python",
   "name": "python",
   "nbconvert_exporter": "python",
   "pygments_lexer": "ipython3",
   "version": "3.7.6"
  }
 },
 "nbformat": 4,
 "nbformat_minor": 4
}
