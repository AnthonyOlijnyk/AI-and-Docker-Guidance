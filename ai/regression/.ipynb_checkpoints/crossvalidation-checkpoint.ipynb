{
 "cells": [
  {
   "cell_type": "code",
   "execution_count": null,
   "metadata": {},
   "outputs": [],
   "source": [
    "from sklearn.model_selection import cross_val_score\n",
    "from sklearn.neighbors import KNeighborsClassifier\n",
    "from sklearn.svm import SVC\n",
    "from sklearn.model_selection import validation_curve\n",
    "import pandas as pd\n",
    "import numpy as np"
   ]
  },
  {
   "cell_type": "code",
   "execution_count": null,
   "metadata": {},
   "outputs": [],
   "source": [
    "fruits = pd.read_table('fruit_data_with_colors.txt')\n",
    "X_fruits_2d = fruits[['height', 'width']]\n",
    "y_fruits_2d = fruits['fruit_label']\n",
    "\n",
    "clf = KNeighborsClassifier(n_neighbors=5)\n",
    "X = X_fruits_2d.to_numpy()\n",
    "y = y_fruits_2d.to_numpy()\n",
    "\n",
    "# the goal of cross validation is to make the model more accurate with regards to\n",
    "# test data that has not been seen yet. These are the steps for cross validation\n",
    "# Shuffle the dataset randomly.\n",
    "# Split the dataset into k groups\n",
    "# For each unique group:\n",
    "#     Take the group as a hold out or test data set\n",
    "#     Take the remaining groups as a training data set\n",
    "#     Fit a model on the training set and evaluate it on the test set\n",
    "#     Retain the evaluation score and discard the model\n",
    "# Summarize the skill of the model using the sample of model evaluation scores\n",
    "\n",
    "# sklearn does stratified and regular cross validation depending on if the model\n",
    "# does classification or regression. Let's say for example that you were doing a\n",
    "# 5-fold cross validation. If this were the case, then the first 20% of the data would\n",
    "# be considered the test set for the first batch, and then the next 20% would be the test\n",
    "# set for the second batch etc. If your data is sorted, then this is not good as you may\n",
    "# not get all of the classes represented in the first 20%. Stratified cross validation works\n",
    "# to prevent this issue by making sure the amount of class representation in each test set\n",
    "# is indicitive of the overall data set\n",
    "\n",
    "# note that cross_val_score has a parameter cv which can change the fold number (default is 3)\n",
    "cv_scores = cross_val_score(clf, X, y)\n",
    "\n",
    "print('Cross-validation scores (3-fold):', cv_scores[:3])\n",
    "print('Mean cross-validation score (3-fold): {:.3f}'.format(np.mean(cv_scores)))"
   ]
  },
  {
   "cell_type": "code",
   "execution_count": null,
   "metadata": {},
   "outputs": [],
   "source": [
    "# using validation_curve, you can see quickly how the change of certain parameters of a model\n",
    "# will affect the overall accuracy\n",
    "\n",
    "# create an equally spaced 4 element array of values from 10^-3 to 10^3\n",
    "param_range = np.logspace(-3, 3, 4)\n",
    "# get the accuracy scores for both the train and test set\n",
    "train_scores, test_scores = validation_curve(\n",
    "    # model you want to use\n",
    "    SVC(),\n",
    "    # features\n",
    "    X,\n",
    "    # labels\n",
    "    y,\n",
    "    # parameter you would like to adjust\n",
    "    param_name='gamma',\n",
    "    # range of values used to adjust the parameter\n",
    "    param_range=param_range,\n",
    "    # how many folds you would like (3 by default)\n",
    "    cv=3\n",
    ")\n",
    "print(train_scores)\n",
    "print(test_scores)"
   ]
  }
 ],
 "metadata": {
  "kernelspec": {
   "display_name": "Python 3",
   "language": "python",
   "name": "python3"
  },
  "language_info": {
   "codemirror_mode": {
    "name": "ipython",
    "version": 3
   },
   "file_extension": ".py",
   "mimetype": "text/x-python",
   "name": "python",
   "nbconvert_exporter": "python",
   "pygments_lexer": "ipython3",
   "version": "3.7.6"
  }
 },
 "nbformat": 4,
 "nbformat_minor": 4
}
