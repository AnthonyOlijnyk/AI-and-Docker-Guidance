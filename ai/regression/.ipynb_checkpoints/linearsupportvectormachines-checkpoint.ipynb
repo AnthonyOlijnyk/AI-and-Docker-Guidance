{
 "cells": [
  {
   "cell_type": "code",
   "execution_count": null,
   "metadata": {},
   "outputs": [],
   "source": [
    "from sklearn.svm import SVC\n",
    "from sklearn.datasets import make_classification\n",
    "from sklearn.model_selection import train_test_split\n",
    "import matplotlib.pyplot as plt"
   ]
  },
  {
   "cell_type": "code",
   "execution_count": null,
   "metadata": {},
   "outputs": [],
   "source": [
    "# creating random classification data\n",
    "X_C2, y_C2 = make_classification(\n",
    "    n_samples = 100, \n",
    "    n_features=2,\n",
    "    # no redundant features\n",
    "    n_redundant=0, \n",
    "    # both features are informative\n",
    "    n_informative=2,\n",
    "    # each class division belongs to one cluster\n",
    "    n_clusters_per_class=1, \n",
    "    # percentage of points whose class is assigned randomly\n",
    "    flip_y = 0.1,\n",
    "    # how spread out the clusters are\n",
    "    class_sep = 0.5, \n",
    "    random_state=0\n",
    ")\n",
    "\n",
    "plt.figure()\n",
    "plt.title(\"random classification data\")\n",
    "plt.grid(True)\n",
    "plt.scatter(X_C2[:, 0], X_C2[:, 1], c=y_C2,\n",
    "           marker= 'o', s=50)\n",
    "plt.show()"
   ]
  },
  {
   "cell_type": "code",
   "execution_count": null,
   "metadata": {},
   "outputs": [],
   "source": [
    "X_train, X_test, y_train, y_test = train_test_split(X_C2, y_C2, random_state=0)\n",
    "\n",
    "# support vector machines work to create a bouondary line with the maximum margin between classifications.\n",
    "# it does this by the following formula: sign(dot(w, x) + b) where the sign function returns either\n",
    "# +1 if the value is bigger than 0 and -1 if the value is lower than zero and dot() is a dot product\n",
    "clf = SVC(kernel='linear', C=1.0).fit(X_train, y_train)\n",
    "\n",
    "print(\"Accuracy of svc (train): {}\".format(clf.score(X_train, y_train)))\n",
    "print(\"Accuracy of svc (test): {}\".format(clf.score(X_test, y_test)))"
   ]
  }
 ],
 "metadata": {
  "kernelspec": {
   "display_name": "Python 3",
   "language": "python",
   "name": "python3"
  },
  "language_info": {
   "codemirror_mode": {
    "name": "ipython",
    "version": 3
   },
   "file_extension": ".py",
   "mimetype": "text/x-python",
   "name": "python",
   "nbconvert_exporter": "python",
   "pygments_lexer": "ipython3",
   "version": "3.7.6"
  }
 },
 "nbformat": 4,
 "nbformat_minor": 4
}
