{
 "cells": [
  {
   "cell_type": "code",
   "execution_count": null,
   "metadata": {},
   "outputs": [],
   "source": [
    "from sklearn.svm import SVC\n",
    "from sklearn.datasets import make_blobs\n",
    "import matplotlib.pyplot as plt\n",
    "from sklearn.model_selection import train_test_split"
   ]
  },
  {
   "cell_type": "code",
   "execution_count": null,
   "metadata": {},
   "outputs": [],
   "source": [
    "# creating higher complexity clustered data\n",
    "X_D2, y_D2 = make_blobs(\n",
    "    n_samples = 100, \n",
    "    n_features = 2, \n",
    "    # centers are like places where blobs form around\n",
    "    centers = 8,\n",
    "    # standard deviation of clusters\n",
    "    cluster_std = 1.3, \n",
    "    random_state = 4\n",
    ")\n",
    "\n",
    "# we can see that a simple line will not be able to accurately classify the data\n",
    "plt.figure()\n",
    "plt.title(\"random blob data\")\n",
    "plt.scatter(X_D2[:, 0], X_D2[:, 1], c=y_D2, marker='o', s=50)\n",
    "plt.grid(True)\n",
    "plt.show()"
   ]
  },
  {
   "cell_type": "code",
   "execution_count": null,
   "metadata": {},
   "outputs": [],
   "source": [
    "X_train, X_test, y_train, y_test = train_test_split(X_D2, y_D2, random_state=0)\n",
    "\n",
    "# The kernalized support vector machines are able to classify high complexity differences in clusters\n",
    "# by expanding the dimensions of the data. In our dataset here, we have two features to a data point.\n",
    "# by expanding this data to a higher dimension, we can form a surface that when cut with a plane,\n",
    "# isolates the data points in circle like figures in 2d space. For example, if we had a cluster of data\n",
    "# that had one class around the origin and another class surrounding it, when raising the points to\n",
    "# a higher dimension, and cutting the paraboloid along the x-y plane, we would get an ellipse like\n",
    "# image when projected onto 2d space\n",
    "\n",
    "# the default kernal for SVC is the radial basis function (RBF). SVC also has a gamma parameter which\n",
    "# dictates how much each data point affects the area of classification (high gamma leads to classification\n",
    "# regions that are very small while low gamma lead to classification regions that are large)\n",
    "kvm = SVC().fit(X_train, y_train)\n",
    "\n",
    "print(\"results for radial basis function\")\n",
    "print(\"accuracy of kvm (train): {}\".format(kvm.score(X_train, y_train)))\n",
    "print(\"accuracy of kvm (test): {}\".format(kvm.score(X_test, y_test)))\n",
    "\n",
    "# using polynomial kernel of degree 3\n",
    "kvm = SVC(kernel='poly', degree=3).fit(X_train, y_train)\n",
    "\n",
    "print(\"\\nresults for polynomial function\")\n",
    "print(\"accuracy of kvm (train): {}\".format(kvm.score(X_train, y_train)))\n",
    "print(\"accuracy of kvm (test): {}\".format(kvm.score(X_test, y_test)))\n"
   ]
  }
 ],
 "metadata": {
  "kernelspec": {
   "display_name": "Python 3",
   "language": "python",
   "name": "python3"
  },
  "language_info": {
   "codemirror_mode": {
    "name": "ipython",
    "version": 3
   },
   "file_extension": ".py",
   "mimetype": "text/x-python",
   "name": "python",
   "nbconvert_exporter": "python",
   "pygments_lexer": "ipython3",
   "version": "3.7.6"
  }
 },
 "nbformat": 4,
 "nbformat_minor": 4
}
