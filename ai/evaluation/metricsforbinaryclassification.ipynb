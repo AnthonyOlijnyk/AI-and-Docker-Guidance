{
 "cells": [
  {
   "cell_type": "code",
   "execution_count": null,
   "metadata": {},
   "outputs": [],
   "source": [
    "from sklearn.metrics import accuracy_score, precision_score, recall_score, f1_score\n",
    "from sklearn.tree import DecisionTreeClassifier\n",
    "from sklearn.datasets import load_digits\n",
    "from sklearn.model_selection import train_test_split\n",
    "from sklearn.metrics import classification_report"
   ]
  },
  {
   "cell_type": "code",
   "execution_count": null,
   "metadata": {},
   "outputs": [],
   "source": [
    "dataset = load_digits()\n",
    "\n",
    "X, y = dataset.data, dataset.target\n",
    "\n",
    "y_binary_imbalanced = y.copy()\n",
    "y_binary_imbalanced[y_binary_imbalanced != 1] = 0\n",
    "\n",
    "X_train, X_test, y_train, y_test = train_test_split(X, y_binary_imbalanced, random_state=0)\n",
    "\n",
    "# creating decision tree with max depth of 2\n",
    "dt = DecisionTreeClassifier(max_depth=2).fit(X_train, y_train)\n",
    "tree_predicted = dt.predict(X_test)\n",
    "\n",
    "# when evaluating a model, you need to see various types of metrics in order to get a good\n",
    "# grasp on whether the model is performing well or not. Here we are looking at the accuracy,\n",
    "# precision, recall, and f1 score of the model\n",
    "\n",
    "#(TP = true positive, FP = false positive, TN = true negative, FN = false negative)\n",
    "\n",
    "# accuracy = # of predictions correct / total predictions\n",
    "print(\"accuracy: {:.2f}\".format(accuracy_score(y_test, tree_predicted)))\n",
    "# precision = TP / (TP + FP) \n",
    "# quantifies the number of correct positive predictions made by dividing the number of correct\n",
    "# positive predictions by the total amount of positive predictions\n",
    "print(\"precision: {:.2f}\".format(precision_score(y_test, tree_predicted)))\n",
    "# recall = TP / (TP + FN)\n",
    "# quantifies the number of correct positive predictions made out of all positive predictions\n",
    "# that could be made\n",
    "print(\"recall: {:.2f}\".format(recall_score(y_test, tree_predicted)))\n",
    "# f1 = 2 x (precision x recall) / (precision + recall) or:\n",
    "# f1 = 2TP / (2TP + FN + FP)\n",
    "# provides a way to combine both precision and recall into a single measure \n",
    "# that captures both properties.\n",
    "print(\"f1: {:.2f}\".format(f1_score(y_test, tree_predicted)))"
   ]
  },
  {
   "cell_type": "code",
   "execution_count": null,
   "metadata": {},
   "outputs": [],
   "source": [
    "# sklearn has a function that combines and outputs these values into a single table.\n",
    "# the support column lists the number of instances in the test set that have the given label\n",
    "print(classification_report(y_test, tree_predicted, target_names=['other digits', '1']))"
   ]
  }
 ],
 "metadata": {
  "kernelspec": {
   "display_name": "Python 3",
   "language": "python",
   "name": "python3"
  },
  "language_info": {
   "codemirror_mode": {
    "name": "ipython",
    "version": 3
   },
   "file_extension": ".py",
   "mimetype": "text/x-python",
   "name": "python",
   "nbconvert_exporter": "python",
   "pygments_lexer": "ipython3",
   "version": "3.7.6"
  }
 },
 "nbformat": 4,
 "nbformat_minor": 4
}
