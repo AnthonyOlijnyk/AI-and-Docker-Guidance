{
 "cells": [
  {
   "cell_type": "code",
   "execution_count": null,
   "metadata": {},
   "outputs": [],
   "source": [
    "from sklearn.datasets import load_digits\n",
    "from sklearn.svm import SVC\n",
    "import seaborn as sns\n",
    "import matplotlib.pyplot as plt\n",
    "from sklearn.model_selection import train_test_split\n",
    "import pandas as pd\n",
    "from sklearn.metrics import confusion_matrix, accuracy_score, classification_report\n",
    "from sklearn.metrics import precision_score, f1_score"
   ]
  },
  {
   "cell_type": "code",
   "execution_count": null,
   "metadata": {},
   "outputs": [],
   "source": [
    "dataset = load_digits()\n",
    "X, y = dataset.data, dataset.target\n",
    "X_train_mc, X_test_mc, y_train_mc, y_test_mc = train_test_split(X, y, random_state=0)\n",
    "\n",
    "# construct the confusion matrix for multi class classification using an SVM with a linear kernel\n",
    "# and convert it into a dataframe\n",
    "svm = SVC(kernel='linear').fit(X_train_mc, y_train_mc)\n",
    "svm_predicted_mc= svm.predict(X_test_mc)\n",
    "confusion_mc = confusion_matrix(y_test_mc, svm_predicted_mc)\n",
    "df_cm = pd.DataFrame(confusion_mc)"
   ]
  },
  {
   "cell_type": "code",
   "execution_count": null,
   "metadata": {},
   "outputs": [],
   "source": [
    "# plotting the dataframe with a heatmap\n",
    "plt.figure(figsize=(5.5,4))\n",
    "# annot being true allows for us to write the data value into each cell\n",
    "sns.heatmap(df_cm, annot=True)\n",
    "plt.title(\"SVM linear kernel accuracy: {:.3f}\".format(accuracy_score(y_test_mc, svm_predicted_mc)))\n",
    "plt.ylabel(\"True label\")\n",
    "plt.xlabel(\"Predicted label\")"
   ]
  },
  {
   "cell_type": "code",
   "execution_count": null,
   "metadata": {},
   "outputs": [],
   "source": [
    "# construct the confusion matrix for multi class classification using an SVM with the radial basis\n",
    "# function kernel and converting it into a dataframe\n",
    "svm2 = SVC(kernel='rbf').fit(X_train_mc, y_train_mc)\n",
    "svm_predicted_mc2 = svm2.predict(X_test_mc)\n",
    "confusion_mc2 = confusion_matrix(y_test_mc, svm_predicted_mc2)\n",
    "df_mc2 = pd.DataFrame(confusion_mc2)"
   ]
  },
  {
   "cell_type": "code",
   "execution_count": null,
   "metadata": {},
   "outputs": [],
   "source": [
    "# plotting the confusion matrix heatmap\n",
    "plt.figure(figsize=(5.5,4))\n",
    "sns.heatmap(df_mc2, annot=True)\n",
    "plt.title(\"SVM RBF kernel accuracy: {:.3f}\".format(accuracy_score(y_test_mc, svm_predicted_mc2)))\n",
    "plt.ylabel(\"True label\")\n",
    "plt.xlabel(\"Predicted label\")"
   ]
  },
  {
   "cell_type": "code",
   "execution_count": null,
   "metadata": {},
   "outputs": [],
   "source": [
    "# comparing the metrics of the linear kernel SVM with the metrics of the RBF kernel SVM\n",
    "print(\"Linear metrics\")\n",
    "print(classification_report(y_test_mc, svm_predicted_mc))\n",
    "print(\"\\nRBF metrics\")\n",
    "print(classification_report(y_test_mc, svm_predicted_mc2))"
   ]
  },
  {
   "cell_type": "code",
   "execution_count": null,
   "metadata": {},
   "outputs": [],
   "source": [
    "# Here we will examine micro and macro average precision\n",
    "\n",
    "# micro average precision allows for all of the classes to be weighted accoring to their frequency.\n",
    "# For example, if we had 100/200 instances of oranges being correctly predicted, \n",
    "# 2/6 instances of apples being correctly predicted, and 20/30 instances of mangos being correctly\n",
    "# predicted, then the micro average precision would be: correct predictions / total number of trials\n",
    "# or here: (100 + 2 + 20) / (200 + 6 + 30)\n",
    "\n",
    "# macro average precision allows for all of the classes to be weighted equally irrespetive\n",
    "# of their frequency.\n",
    "# For example, if we had 100/200 instances of oranges being correctly predicted, \n",
    "# 2/6 instances of apples being correctly predicted, and 20/30 instances of mangos being correctly\n",
    "# predicted, then the macro average precision would be: sum of correct prediction ratios / 3\n",
    "# or here: (0.5 + 0.33 + 0.67) / 3\n",
    "\n",
    "print('Micro-averaged precision = {:.2f} (treat instances equally)'\n",
    "      .format(precision_score(y_test_mc, svm_predicted_mc, average = 'micro')))\n",
    "print('Macro-averaged precision = {:.2f} (treat classes equally)'\n",
    "      .format(precision_score(y_test_mc, svm_predicted_mc, average = 'macro')))\n",
    "print('Micro-averaged f1 = {:.2f} (treat instances equally)'\n",
    "      .format(f1_score(y_test_mc, svm_predicted_mc, average = 'micro')))\n",
    "print('Macro-averaged f1 = {:.2f} (treat classes equally)'\n",
    "      .format(f1_score(y_test_mc, svm_predicted_mc, average = 'macro')))"
   ]
  }
 ],
 "metadata": {
  "kernelspec": {
   "display_name": "Python 3",
   "language": "python",
   "name": "python3"
  },
  "language_info": {
   "codemirror_mode": {
    "name": "ipython",
    "version": 3
   },
   "file_extension": ".py",
   "mimetype": "text/x-python",
   "name": "python",
   "nbconvert_exporter": "python",
   "pygments_lexer": "ipython3",
   "version": "3.7.6"
  }
 },
 "nbformat": 4,
 "nbformat_minor": 4
}
