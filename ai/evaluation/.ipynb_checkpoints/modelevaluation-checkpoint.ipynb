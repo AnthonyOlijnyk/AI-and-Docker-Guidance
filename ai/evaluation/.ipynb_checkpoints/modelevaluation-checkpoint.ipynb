{
 "cells": [
  {
   "cell_type": "code",
   "execution_count": null,
   "metadata": {},
   "outputs": [],
   "source": [
    "from sklearn.model_selection import cross_val_score, train_test_split, GridSearchCV\n",
    "from sklearn.metrics import roc_auc_score\n",
    "from sklearn.svm import SVC\n",
    "from sklearn.datasets import load_digits"
   ]
  },
  {
   "cell_type": "markdown",
   "metadata": {},
   "source": [
    "# Using Cross-Validation"
   ]
  },
  {
   "cell_type": "code",
   "execution_count": null,
   "metadata": {},
   "outputs": [],
   "source": [
    "dataset = load_digits()\n",
    "\n",
    "# labels are false if not 1 and true if 1\n",
    "X, y = dataset.data, dataset.target == 1\n",
    "# support vector machine using linear kernel\n",
    "clf = SVC(kernel='linear', C=1)\n",
    "# performing 5 fold cross validation with accuracy as the metric we are viewing\n",
    "print(\"cross validation (accuracy): {}\".format(cross_val_score(clf, X, y, cv=5)))\n",
    "# performing 5 fold cross validation with AUC as the metric we are viewing\n",
    "print(\"cross validation (AUC): {}\".format(cross_val_score(clf, X, y, cv=5, scoring='roc_auc')))\n",
    "# performing 5 fold cross validation with recall as the metric we are viewing\n",
    "print(\"cross validation (recall): {}\".format(cross_val_score(clf, X, y, cv=5, scoring='recall')))"
   ]
  },
  {
   "cell_type": "markdown",
   "metadata": {},
   "source": [
    "# Using GridSearchCV"
   ]
  },
  {
   "cell_type": "code",
   "execution_count": null,
   "metadata": {},
   "outputs": [],
   "source": [
    "# Grid search is an approach to parameter tuning that will methodically \n",
    "# build and evaluate a model for each combination of algorithm parameters \n",
    "# specified in a grid\n",
    "\n",
    "X_train, X_test, y_train, y_test = train_test_split(X, y, random_state=0)\n",
    "\n",
    "clf = SVC(kernel='rbf')\n",
    "# gamma values we want to test our model with\n",
    "grid_values = {'gamma': [0.001, 0.01, 0.05, 0.1, 1, 10, 100]}\n",
    "# test accuracy values using the range of gamma values specified in grid_values\n",
    "grid_clf_acc = GridSearchCV(clf, param_grid=grid_values)\n",
    "grid_clf_acc.fit(X_train, y_train)\n",
    "\n",
    "y_decision_fn_scores_acc = grid_clf_acc.decision_function(X_test)\n",
    "\n",
    "# getting the best gamma parameter\n",
    "print(\"grid best parameter (max accuracy): {}\".format(grid_clf_acc.best_params_))\n",
    "# getting the best accuracy score\n",
    "print(\"grid best score (accuracy): {}\".format(grid_clf_acc.best_score_))"
   ]
  },
  {
   "cell_type": "code",
   "execution_count": null,
   "metadata": {},
   "outputs": [],
   "source": [
    "# test AUC values using the range of gamma values specified in grid_values\n",
    "grid_clf_auc = GridSearchCV(clf, param_grid=grid_values, scoring='roc_auc')\n",
    "grid_clf_auc.fit(X_train, y_train)\n",
    "\n",
    "y_decision_fn_scores_auc = grid_clf_auc.decision_function(X_test)\n",
    "\n",
    "# getting the AUC from test set\n",
    "print(\"test set AUC:: {}\".format(roc_auc_score(y_test, y_decision_fn_scores_auc)))\n",
    "# getting the best gamma parameter\n",
    "print(\"grid best parameter (max AUC): {}\".format(grid_clf_auc.best_params_))\n",
    "# getting the best AUC score\n",
    "print(\"grid best score (AUC): {}\".format(grid_clf_auc.best_score_))"
   ]
  }
 ],
 "metadata": {
  "kernelspec": {
   "display_name": "Python 3",
   "language": "python",
   "name": "python3"
  },
  "language_info": {
   "codemirror_mode": {
    "name": "ipython",
    "version": 3
   },
   "file_extension": ".py",
   "mimetype": "text/x-python",
   "name": "python",
   "nbconvert_exporter": "python",
   "pygments_lexer": "ipython3",
   "version": "3.7.6"
  }
 },
 "nbformat": 4,
 "nbformat_minor": 4
}
