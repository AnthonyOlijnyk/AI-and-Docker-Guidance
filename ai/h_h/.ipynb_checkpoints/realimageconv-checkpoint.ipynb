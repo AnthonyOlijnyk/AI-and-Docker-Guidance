{
 "cells": [
  {
   "cell_type": "code",
   "execution_count": null,
   "metadata": {},
   "outputs": [],
   "source": [
    "from tensorflow.keras.preprocessing.image import ImageDataGenerator\n",
    "from tensorflow.keras.optimizers import RMSprop\n",
    "from keras.preprocessing import image\n",
    "import tensorflow as tf\n",
    "import numpy as np\n",
    "import os"
   ]
  },
  {
   "cell_type": "code",
   "execution_count": null,
   "metadata": {},
   "outputs": [],
   "source": [
    "train_dir = os.path.join(os.getcwd(), 'horse-or-human')\n",
    "validation_dir = os.path.join(os.getcwd(), 'validation-horse-or-human')\n",
    "train_horse_dir = os.path.join(os.getcwd(), 'horse-or-human', 'horses')\n",
    "train_human_dir = os.path.join(os.getcwd(), 'horse-or-human', 'humans')\n",
    "validation_horse_dir = os.path.join(os.getcwd(), 'validation-horse-or-human', 'horse')\n",
    "validation_human_dir = os.path.join(os.getcwd(), 'validation-horse-or-human', 'human')"
   ]
  },
  {
   "cell_type": "code",
   "execution_count": null,
   "metadata": {},
   "outputs": [],
   "source": [
    "# normalizing the data\n",
    "train_datagen = ImageDataGenerator(rescale=1./255)\n",
    "\n",
    "# load image from directory and sub-directories\n",
    "train_generator = train_datagen.flow_from_directory(\n",
    "    # directory we're pointing to\n",
    "    train_dir,\n",
    "    # neural net needs all images the same size. This will allow\n",
    "    # for all of the images to be resized when they are loaded\n",
    "    target_size=(300,300),\n",
    "    # training and testing are loaded in batches\n",
    "    batch_size=128,\n",
    "    # class mode here is binary as we are only distinguishing between\n",
    "    # two different things in the dataset\n",
    "    class_mode='binary'\n",
    ")"
   ]
  },
  {
   "cell_type": "code",
   "execution_count": null,
   "metadata": {},
   "outputs": [],
   "source": [
    "# validation is same as training except the validation directory is pointed to\n",
    "test_datagen = ImageDataGenerator(rescale=1./255)\n",
    "\n",
    "validation_generator = test_datagen.flow_from_directory(\n",
    "    validation_dir,\n",
    "    target_size=(300,300),\n",
    "    batch_size=128,\n",
    "    class_mode='binary'\n",
    ")"
   ]
  },
  {
   "cell_type": "code",
   "execution_count": null,
   "metadata": {},
   "outputs": [],
   "source": [
    "model = tf.keras.models.Sequential([\n",
    "    # Note the input shape is the desired size of the image 300x300 with 3 bytes color\n",
    "    # This is the first convolution\n",
    "    tf.keras.layers.Conv2D(16, (3,3), activation='relu', input_shape=(300, 300, 3)),\n",
    "    tf.keras.layers.MaxPooling2D(2, 2),\n",
    "    # The second convolution\n",
    "    tf.keras.layers.Conv2D(32, (3,3), activation='relu'),\n",
    "    tf.keras.layers.MaxPooling2D(2,2),\n",
    "    # The third convolution\n",
    "    tf.keras.layers.Conv2D(64, (3,3), activation='relu'),\n",
    "    tf.keras.layers.MaxPooling2D(2,2),\n",
    "    # The fourth convolution\n",
    "    tf.keras.layers.Conv2D(64, (3,3), activation='relu'),\n",
    "    tf.keras.layers.MaxPooling2D(2,2),\n",
    "    # The fifth convolution\n",
    "    tf.keras.layers.Conv2D(64, (3,3), activation='relu'),\n",
    "    tf.keras.layers.MaxPooling2D(2,2),\n",
    "    # Flatten the results to feed into a DNN\n",
    "    tf.keras.layers.Flatten(),\n",
    "    # 512 neuron hidden layer\n",
    "    tf.keras.layers.Dense(512, activation='relu'),\n",
    "    # Only 1 output neuron. It will contain a value from 0-1 where 0 for 1 class ('horses')\n",
    "    # and 1 for the other ('humans')\n",
    "    tf.keras.layers.Dense(1, activation='sigmoid')\n",
    "])"
   ]
  },
  {
   "cell_type": "code",
   "execution_count": null,
   "metadata": {},
   "outputs": [],
   "source": [
    "model.summary()"
   ]
  },
  {
   "cell_type": "code",
   "execution_count": null,
   "metadata": {},
   "outputs": [],
   "source": [
    "# using binary_crossentropy because there are two categories\n",
    "model.compile(loss='binary_crossentropy',\n",
    "              # this optimizer allows you to change the learning rate unlike adam\n",
    "             optimizer=RMSprop(lr=0.001),\n",
    "              metrics=['acc']\n",
    "             )"
   ]
  },
  {
   "cell_type": "code",
   "execution_count": null,
   "metadata": {},
   "outputs": [],
   "source": [
    "history = model.fit_generator(\n",
    "    train_generator,\n",
    "    # there are 1024 images in total that are split up into batches of size 128\n",
    "    # in order to use all of the images, we need to do 8 batches per epoch (128 x 8 = 1024)\n",
    "    steps_per_epoch=8,\n",
    "    epochs=15,\n",
    "    # details how much information we want when training\n",
    "    verbose=1,\n",
    "    validation_data=validation_generator,\n",
    "    validation_steps=8\n",
    ")"
   ]
  },
  {
   "cell_type": "code",
   "execution_count": null,
   "metadata": {},
   "outputs": [],
   "source": [
    "horse_img_path = os.path.join(os.getcwd(), 'validation-horse-or-human', 'horses')\n",
    "human_img_path = os.path.join(os.getcwd(), 'validation-horse-or-human', 'humans')"
   ]
  },
  {
   "cell_type": "code",
   "execution_count": null,
   "metadata": {},
   "outputs": [],
   "source": [
    "# looping through the images and testing what the network thinks each image is\n",
    "for path in os.listdir(human_img_path):\n",
    "    # loading images\n",
    "    img = image.load_img(os.path.join(human_img_path, path), target_size=(300, 300))\n",
    "    # converting to array\n",
    "    x = image.img_to_array(img)\n",
    "    # expanding the dimensions of the image because the model expects the tensor to be fully equipped\n",
    "    # with the color dimension already in place\n",
    "    x = np.expand_dims(x, axis=0)\n",
    "    \n",
    "    # appedn the array to the list\n",
    "    images = np.vstack([x])\n",
    "    # get prediction\n",
    "    classes = model.predict(images, batch_size=10)\n",
    "    # determine which is horse and which is human\n",
    "    print(classes[0])\n",
    "    if classes[0] > 0.5:\n",
    "        print(\"human\")\n",
    "    else:\n",
    "        print(\"horse\")"
   ]
  }
 ],
 "metadata": {
  "kernelspec": {
   "display_name": "Python 3",
   "language": "python",
   "name": "python3"
  },
  "language_info": {
   "codemirror_mode": {
    "name": "ipython",
    "version": 3
   },
   "file_extension": ".py",
   "mimetype": "text/x-python",
   "name": "python",
   "nbconvert_exporter": "python",
   "pygments_lexer": "ipython3",
   "version": "3.7.6"
  }
 },
 "nbformat": 4,
 "nbformat_minor": 4
}
