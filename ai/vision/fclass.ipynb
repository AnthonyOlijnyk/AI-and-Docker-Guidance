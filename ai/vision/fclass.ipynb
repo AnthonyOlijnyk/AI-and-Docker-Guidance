{
 "cells": [
  {
   "cell_type": "code",
   "execution_count": null,
   "metadata": {},
   "outputs": [],
   "source": [
    "import tensorflow as tf\n",
    "from tensorflow import keras\n",
    "import matplotlib.pyplot as plt\n",
    "import numpy as np\n",
    "# Setting up a  callback so that when the model hits loss below 40%\n",
    "# the training will end\n",
    "class myCallback(tf.keras.callbacks.Callback):\n",
    "    def on_epoch_end(self, epoch, logs={}):\n",
    "        if(logs.get('loss') < 0.4):\n",
    "            print(\"loss is low so cancelling training\")\n",
    "            self.model.stop_training = True"
   ]
  },
  {
   "cell_type": "code",
   "execution_count": null,
   "metadata": {},
   "outputs": [],
   "source": [
    "# instantiating the callback\n",
    "callbacks = myCallback()\n",
    "# using dataset built into keras\n",
    "fashion_mnist = keras.datasets.fashion_mnist\n",
    "# getting the training and testing set\n",
    "(training_images, training_labels), (test_images, test_labels) = fashion_mnist.load_data()"
   ]
  },
  {
   "cell_type": "code",
   "execution_count": null,
   "metadata": {},
   "outputs": [],
   "source": [
    "np.set_printoptions(linewidth=200)\n",
    "plt.imshow(training_images[0])\n",
    "# label = 9\n",
    "print(training_labels[0])\n",
    "# image = numpy array\n",
    "print(training_images[0])"
   ]
  },
  {
   "cell_type": "code",
   "execution_count": null,
   "metadata": {},
   "outputs": [],
   "source": [
    "# Setting pixel values to between 0 and 1\n",
    "training_images  = training_images / 255.0\n",
    "test_images = test_images / 255.0"
   ]
  },
  {
   "cell_type": "code",
   "execution_count": null,
   "metadata": {},
   "outputs": [],
   "source": [
    "model = keras.Sequential([\n",
    "    # takes the 28 by 28 input images and tranforms it into a linear array\n",
    "    keras.layers.Flatten(input_shape=(28,28)),\n",
    "    # relu return 0 if input <= 0 and x if input > 0\n",
    "    keras.layers.Dense(128, activation=tf.nn.relu),\n",
    "    # 10 neurons because 10 classes of clothing\n",
    "    # softmax activation will pick the biggest number from the input and mark it in the output\n",
    "    # for [1, 0, 2, 9] it would output [0, 0, 0, 1] as 9 was the max\n",
    "    keras.layers.Dense(10, activation=tf.nn.softmax)\n",
    "])"
   ]
  },
  {
   "cell_type": "code",
   "execution_count": null,
   "metadata": {},
   "outputs": [],
   "source": [
    "model.compile(optimizer=tf.keras.optimizers.Adam(),\n",
    "             loss='sparse_categorical_crossentropy',\n",
    "             metrics=['accuracy'])\n",
    "model.fit(training_images, training_labels, epochs=5, callbacks=[callbacks])"
   ]
  },
  {
   "cell_type": "code",
   "execution_count": null,
   "metadata": {},
   "outputs": [],
   "source": [
    "# note model.predict worked on one image, model.evaluate works on many\n",
    "model.evaluate(test_images, test_labels)"
   ]
  },
  {
   "cell_type": "code",
   "execution_count": null,
   "metadata": {},
   "outputs": [],
   "source": [
    "classifications = model.predict(test_images)\n",
    "# when you do model.predict(test_images) the returned value is an array of numbers and not a single number.\n",
    "# This is because the output is a range of probabilities showing that the highest probability is at the\n",
    "# 9th index\n",
    "print(classifications[0])\n",
    "print(test_labels[0])"
   ]
  }
 ],
 "metadata": {
  "kernelspec": {
   "display_name": "Python 3",
   "language": "python",
   "name": "python3"
  },
  "language_info": {
   "codemirror_mode": {
    "name": "ipython",
    "version": 3
   },
   "file_extension": ".py",
   "mimetype": "text/x-python",
   "name": "python",
   "nbconvert_exporter": "python",
   "pygments_lexer": "ipython3",
   "version": "3.7.6"
  }
 },
 "nbformat": 4,
 "nbformat_minor": 4
}
